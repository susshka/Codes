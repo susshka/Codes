{
 "cells": [
  {
   "cell_type": "markdown",
   "id": "d815665a-78de-42ad-835a-8f8892a16325",
   "metadata": {},
   "source": [
    "Задание 2"
   ]
  },
  {
   "cell_type": "code",
   "execution_count": 24,
   "id": "0a3e827b-fc12-4849-bc8b-5a839b58cb42",
   "metadata": {},
   "outputs": [],
   "source": [
    "import pymysql as ps"
   ]
  },
  {
   "cell_type": "code",
   "execution_count": 25,
   "id": "0e9f9310-0573-4525-bac0-79b426f7bcba",
   "metadata": {},
   "outputs": [],
   "source": [
    "sqlcon = ps.connect(host='localhost',user='root',password='kenguru123',db=\"dot\")\n",
    "curs = sqlcon.cursor()"
   ]
  },
  {
   "cell_type": "code",
   "execution_count": 26,
   "id": "80157143-d711-4733-9c62-10ad4b751967",
   "metadata": {},
   "outputs": [
    {
     "name": "stdout",
     "output_type": "stream",
     "text": [
      "['ID', 'a1', 'a2', 'a3', 'a4', 'a5', 'a6', 'a7', 'a8', 'a9', 'a10', 'a11', 'a12', 'a13', 'a14', 'a15', 'a16', 'a17', 'a18', 'a19', 'a20']\n"
     ]
    }
   ],
   "source": [
    "curs.execute(\"SELECT COLUMN_NAME FROM INFORMATION_SCHEMA.COLUMNS WHERE TABLE_NAME = 'one';\")\n",
    "descr = curs.fetchall()\n",
    "collsnames = [d[0] for d in descr]\n",
    "print(collsnames)"
   ]
  },
  {
   "cell_type": "code",
   "execution_count": 18,
   "id": "f5537b1f-64ae-4857-968a-a46e8941099a",
   "metadata": {},
   "outputs": [
    {
     "name": "stdout",
     "output_type": "stream",
     "text": [
      "        id             a1                 a2           a3                a4  \\\n",
      "0        1         shrimp            almonds      avocado    vegetables mix   \n",
      "1        2        burgers          meatballs         eggs                 0   \n",
      "2        3        chutney                  0            0                 0   \n",
      "3        4         turkey            avocado            0                 0   \n",
      "4        5  mineral water               milk   energy bar  whole wheat rice   \n",
      "...    ...            ...                ...          ...               ...   \n",
      "7496  7497         butter         light mayo  fresh bread                 0   \n",
      "7497  7498        burgers  frozen vegetables         eggs      french fries   \n",
      "7498  7499        chicken                  0            0                 0   \n",
      "7499  7500       escalope          green tea            0                 0   \n",
      "7500  7501           eggs    frozen smoothie  yogurt cake    low fat yogurt   \n",
      "\n",
      "                a5                a6    a7              a8            a9  ...  \\\n",
      "0     green grapes  whole weat flour  yams  cottage cheese  energy drink  ...   \n",
      "1                0                 0     0               0             0  ...   \n",
      "2                0                 0     0               0             0  ...   \n",
      "3                0                 0     0               0             0  ...   \n",
      "4        green tea                 0     0               0             0  ...   \n",
      "...            ...               ...   ...             ...           ...  ...   \n",
      "7496             0                 0     0               0             0  ...   \n",
      "7497     magazines         green tea     0               0             0  ...   \n",
      "7498             0                 0     0               0             0  ...   \n",
      "7499             0                 0     0               0             0  ...   \n",
      "7500             0                 0     0               0             0  ...   \n",
      "\n",
      "                 a11        a12    a13    a14            a15     a16  \\\n",
      "0     low fat yogurt  green tea  honey  salad  mineral water  salmon   \n",
      "1                  0          0      0      0              0       0   \n",
      "2                  0          0      0      0              0       0   \n",
      "3                  0          0      0      0              0       0   \n",
      "4                  0          0      0      0              0       0   \n",
      "...              ...        ...    ...    ...            ...     ...   \n",
      "7496               0          0      0      0              0       0   \n",
      "7497               0          0      0      0              0       0   \n",
      "7498               0          0      0      0              0       0   \n",
      "7499               0          0      0      0              0       0   \n",
      "7500               0          0      0      0              0       0   \n",
      "\n",
      "                    a17              a18      a19        a20  \n",
      "0     antioxydant juice  frozen smoothie  spinach  olive oil  \n",
      "1                     0                0        0          0  \n",
      "2                     0                0        0          0  \n",
      "3                     0                0        0          0  \n",
      "4                     0                0        0          0  \n",
      "...                 ...              ...      ...        ...  \n",
      "7496                  0                0        0          0  \n",
      "7497                  0                0        0          0  \n",
      "7498                  0                0        0          0  \n",
      "7499                  0                0        0          0  \n",
      "7500                  0                0        0          0  \n",
      "\n",
      "[7501 rows x 21 columns]\n"
     ]
    }
   ],
   "source": [
    "import pandas as pd\n",
    "\n",
    "data = pd.read_csv (r'/home/milkfoxy/data.csv')   \n",
    "df = pd.DataFrame(data)\n",
    "df.fillna('0', inplace=True)\n",
    "\n",
    "print(df)\n",
    "\n",
    "for row in df.itertuples():\n",
    "    curs.execute(\"INSERT INTO one (`a1`, `a2`, `a3`, `a4`, `a5`, `a6`, `a7`, `a8`, `a9`, `a10`, `a11`, `a12`, `a13`, `a14`, `a15`, `a16`, `a17`, `a18`, `a19`, `a20`) VALUES (%s,%s,%s,%s,%s,%s,%s,%s,%s,%s,%s,%s,%s,%s,%s,%s,%s,%s,%s,%s)\",\n",
    "                 (\n",
    "                 row.a1, \n",
    "                 row.a2,\n",
    "                 row.a3,\n",
    "                 row.a4,\n",
    "                 row.a5,\n",
    "                 row.a6,\n",
    "                 row.a7,\n",
    "                 row.a8,\n",
    "                 row.a9,\n",
    "                 row.a10,\n",
    "                 row.a11,\n",
    "                 row.a12,\n",
    "                 row.a13,\n",
    "                 row.a14,\n",
    "                 row.a15,\n",
    "                 row.a16,\n",
    "                 row.a17,\n",
    "                 row.a18,\n",
    "                 row.a19,\n",
    "                 row.a20)\n",
    "                )\n",
    "sqlcon.commit()\n"
   ]
  },
  {
   "cell_type": "markdown",
   "id": "ec8f8a8a-6ee5-4284-b294-371aa516b3ae",
   "metadata": {},
   "source": [
    "Задание 3"
   ]
  },
  {
   "cell_type": "code",
   "execution_count": 1,
   "id": "6332ac25-4d62-4d67-83f5-b13616e66f60",
   "metadata": {},
   "outputs": [
    {
     "name": "stdout",
     "output_type": "stream",
     "text": [
      "Welcome to atoti 0.6.5!\n",
      "\n",
      "By using this community edition, you agree with the license available at https://docs.atoti.io/latest/eula.html.\n",
      "Browse the official documentation at https://docs.atoti.io.\n",
      "Join the community at https://www.atoti.io/register.\n",
      "\n",
      "atoti collects telemetry data, which is used to help understand how to improve the product.\n",
      "If you don't wish to send usage data, set the ATOTI_DISABLE_TELEMETRY environment variable to True.\n",
      "\n",
      "You can hide this message by setting the ATOTI_HIDE_EULA_MESSAGE environment variable to True.\n"
     ]
    }
   ],
   "source": [
    "import atoti as tt\n",
    "session = tt.Session()"
   ]
  },
  {
   "cell_type": "code",
   "execution_count": 2,
   "id": "cd6a1eca-5e5f-4b25-8899-72dfccee5281",
   "metadata": {},
   "outputs": [
    {
     "data": {
      "text/html": [
       "<div>\n",
       "<style scoped>\n",
       "    .dataframe tbody tr th:only-of-type {\n",
       "        vertical-align: middle;\n",
       "    }\n",
       "\n",
       "    .dataframe tbody tr th {\n",
       "        vertical-align: top;\n",
       "    }\n",
       "\n",
       "    .dataframe thead th {\n",
       "        text-align: right;\n",
       "    }\n",
       "</style>\n",
       "<table border=\"1\" class=\"dataframe\">\n",
       "  <thead>\n",
       "    <tr style=\"text-align: right;\">\n",
       "      <th></th>\n",
       "      <th>a1</th>\n",
       "      <th>a2</th>\n",
       "      <th>a3</th>\n",
       "      <th>a4</th>\n",
       "      <th>a5</th>\n",
       "      <th>a6</th>\n",
       "      <th>a7</th>\n",
       "      <th>a8</th>\n",
       "      <th>a9</th>\n",
       "      <th>a10</th>\n",
       "      <th>a11</th>\n",
       "      <th>a12</th>\n",
       "      <th>a13</th>\n",
       "      <th>a14</th>\n",
       "      <th>a15</th>\n",
       "      <th>a16</th>\n",
       "      <th>a17</th>\n",
       "      <th>a18</th>\n",
       "      <th>a19</th>\n",
       "      <th>a20</th>\n",
       "    </tr>\n",
       "    <tr>\n",
       "      <th>id</th>\n",
       "      <th></th>\n",
       "      <th></th>\n",
       "      <th></th>\n",
       "      <th></th>\n",
       "      <th></th>\n",
       "      <th></th>\n",
       "      <th></th>\n",
       "      <th></th>\n",
       "      <th></th>\n",
       "      <th></th>\n",
       "      <th></th>\n",
       "      <th></th>\n",
       "      <th></th>\n",
       "      <th></th>\n",
       "      <th></th>\n",
       "      <th></th>\n",
       "      <th></th>\n",
       "      <th></th>\n",
       "      <th></th>\n",
       "      <th></th>\n",
       "    </tr>\n",
       "  </thead>\n",
       "  <tbody>\n",
       "    <tr>\n",
       "      <th>1</th>\n",
       "      <td>shrimp</td>\n",
       "      <td>almonds</td>\n",
       "      <td>avocado</td>\n",
       "      <td>vegetables mix</td>\n",
       "      <td>green grapes</td>\n",
       "      <td>whole weat flour</td>\n",
       "      <td>yams</td>\n",
       "      <td>cottage cheese</td>\n",
       "      <td>energy drink</td>\n",
       "      <td>tomato juice</td>\n",
       "      <td>low fat yogurt</td>\n",
       "      <td>green tea</td>\n",
       "      <td>honey</td>\n",
       "      <td>salad</td>\n",
       "      <td>mineral water</td>\n",
       "      <td>salmon</td>\n",
       "      <td>antioxydant juice</td>\n",
       "      <td>frozen smoothie</td>\n",
       "      <td>spinach</td>\n",
       "      <td>olive oil</td>\n",
       "    </tr>\n",
       "    <tr>\n",
       "      <th>2</th>\n",
       "      <td>burgers</td>\n",
       "      <td>meatballs</td>\n",
       "      <td>eggs</td>\n",
       "      <td>N/A</td>\n",
       "      <td>N/A</td>\n",
       "      <td>N/A</td>\n",
       "      <td>N/A</td>\n",
       "      <td>N/A</td>\n",
       "      <td>N/A</td>\n",
       "      <td>N/A</td>\n",
       "      <td>N/A</td>\n",
       "      <td>N/A</td>\n",
       "      <td>N/A</td>\n",
       "      <td>N/A</td>\n",
       "      <td>N/A</td>\n",
       "      <td>N/A</td>\n",
       "      <td>N/A</td>\n",
       "      <td>N/A</td>\n",
       "      <td>N/A</td>\n",
       "      <td>N/A</td>\n",
       "    </tr>\n",
       "    <tr>\n",
       "      <th>3</th>\n",
       "      <td>chutney</td>\n",
       "      <td>N/A</td>\n",
       "      <td>N/A</td>\n",
       "      <td>N/A</td>\n",
       "      <td>N/A</td>\n",
       "      <td>N/A</td>\n",
       "      <td>N/A</td>\n",
       "      <td>N/A</td>\n",
       "      <td>N/A</td>\n",
       "      <td>N/A</td>\n",
       "      <td>N/A</td>\n",
       "      <td>N/A</td>\n",
       "      <td>N/A</td>\n",
       "      <td>N/A</td>\n",
       "      <td>N/A</td>\n",
       "      <td>N/A</td>\n",
       "      <td>N/A</td>\n",
       "      <td>N/A</td>\n",
       "      <td>N/A</td>\n",
       "      <td>N/A</td>\n",
       "    </tr>\n",
       "    <tr>\n",
       "      <th>4</th>\n",
       "      <td>turkey</td>\n",
       "      <td>avocado</td>\n",
       "      <td>N/A</td>\n",
       "      <td>N/A</td>\n",
       "      <td>N/A</td>\n",
       "      <td>N/A</td>\n",
       "      <td>N/A</td>\n",
       "      <td>N/A</td>\n",
       "      <td>N/A</td>\n",
       "      <td>N/A</td>\n",
       "      <td>N/A</td>\n",
       "      <td>N/A</td>\n",
       "      <td>N/A</td>\n",
       "      <td>N/A</td>\n",
       "      <td>N/A</td>\n",
       "      <td>N/A</td>\n",
       "      <td>N/A</td>\n",
       "      <td>N/A</td>\n",
       "      <td>N/A</td>\n",
       "      <td>N/A</td>\n",
       "    </tr>\n",
       "    <tr>\n",
       "      <th>5</th>\n",
       "      <td>mineral water</td>\n",
       "      <td>milk</td>\n",
       "      <td>energy bar</td>\n",
       "      <td>whole wheat rice</td>\n",
       "      <td>green tea</td>\n",
       "      <td>N/A</td>\n",
       "      <td>N/A</td>\n",
       "      <td>N/A</td>\n",
       "      <td>N/A</td>\n",
       "      <td>N/A</td>\n",
       "      <td>N/A</td>\n",
       "      <td>N/A</td>\n",
       "      <td>N/A</td>\n",
       "      <td>N/A</td>\n",
       "      <td>N/A</td>\n",
       "      <td>N/A</td>\n",
       "      <td>N/A</td>\n",
       "      <td>N/A</td>\n",
       "      <td>N/A</td>\n",
       "      <td>N/A</td>\n",
       "    </tr>\n",
       "  </tbody>\n",
       "</table>\n",
       "</div>"
      ],
      "text/plain": [
       "               a1         a2          a3                a4            a5  \\\n",
       "id                                                                         \n",
       "1          shrimp    almonds     avocado    vegetables mix  green grapes   \n",
       "2         burgers  meatballs        eggs               N/A           N/A   \n",
       "3         chutney        N/A         N/A               N/A           N/A   \n",
       "4          turkey    avocado         N/A               N/A           N/A   \n",
       "5   mineral water       milk  energy bar  whole wheat rice     green tea   \n",
       "\n",
       "                  a6    a7              a8            a9           a10  \\\n",
       "id                                                                       \n",
       "1   whole weat flour  yams  cottage cheese  energy drink  tomato juice   \n",
       "2                N/A   N/A             N/A           N/A           N/A   \n",
       "3                N/A   N/A             N/A           N/A           N/A   \n",
       "4                N/A   N/A             N/A           N/A           N/A   \n",
       "5                N/A   N/A             N/A           N/A           N/A   \n",
       "\n",
       "               a11        a12    a13    a14            a15     a16  \\\n",
       "id                                                                   \n",
       "1   low fat yogurt  green tea  honey  salad  mineral water  salmon   \n",
       "2              N/A        N/A    N/A    N/A            N/A     N/A   \n",
       "3              N/A        N/A    N/A    N/A            N/A     N/A   \n",
       "4              N/A        N/A    N/A    N/A            N/A     N/A   \n",
       "5              N/A        N/A    N/A    N/A            N/A     N/A   \n",
       "\n",
       "                  a17              a18      a19        a20  \n",
       "id                                                          \n",
       "1   antioxydant juice  frozen smoothie  spinach  olive oil  \n",
       "2                 N/A              N/A      N/A        N/A  \n",
       "3                 N/A              N/A      N/A        N/A  \n",
       "4                 N/A              N/A      N/A        N/A  \n",
       "5                 N/A              N/A      N/A        N/A  "
      ]
     },
     "execution_count": 2,
     "metadata": {},
     "output_type": "execute_result"
    }
   ],
   "source": [
    "my_table = session.read_csv(\"data.csv\", keys=[\"id\"], separator=\",\")\n",
    "my_table.head()"
   ]
  },
  {
   "cell_type": "code",
   "execution_count": 21,
   "id": "a2373d9d-352b-4954-a6f6-a82fd488dd22",
   "metadata": {},
   "outputs": [],
   "source": [
    "cube = session.create_cube(my_table)\n"
   ]
  },
  {
   "cell_type": "code",
   "execution_count": 22,
   "id": "f45cd063-1ca0-4d83-b567-c6364baf7cd2",
   "metadata": {},
   "outputs": [
    {
     "name": "stdout",
     "output_type": "stream",
     "text": [
      "['a1', 'a2', 'a3', 'a4', 'a5', 'a6', 'a7', 'a8', 'a9', 'a10', 'a11', 'a12', 'a13', 'a14', 'a15', 'a16', 'a17', 'a18', 'a19', 'a20']\n"
     ]
    }
   ],
   "source": [
    "lst = list()\n",
    "for i in range(1, 21):\n",
    "    lst.append(f\"a{i}\")\n",
    "print(lst)"
   ]
  },
  {
   "cell_type": "code",
   "execution_count": 29,
   "id": "f9f396e0-bb90-4c1a-847b-2a848b299601",
   "metadata": {},
   "outputs": [
    {
     "name": "stdout",
     "output_type": "stream",
     "text": [
      "[7503, 5749, 4391, 3347, 2531, 1866, 1371, 983, 656, 397, 258, 156, 89, 49, 27, 10, 6, 6, 5, 3]\n"
     ]
    }
   ],
   "source": [
    "count = list()\n",
    "for i in range(len(lst)):\n",
    "    curs.execute(f\"SELECT COUNT({lst[i]}) FROM `one` WHERE {lst[i]} != '0';\")\n",
    "    count.append(int(''.join(map(str,curs.fetchone()))))\n",
    "print(count)"
   ]
  },
  {
   "cell_type": "markdown",
   "id": "c8725b97-d814-4734-be96-7989e8d791ea",
   "metadata": {},
   "source": [
    "Задание 5"
   ]
  },
  {
   "cell_type": "code",
   "execution_count": 1,
   "id": "3ecab257-c84c-4339-911f-416b3b97c35d",
   "metadata": {},
   "outputs": [
    {
     "ename": "ModuleNotFoundError",
     "evalue": "No module named 'rediscluster'",
     "output_type": "error",
     "traceback": [
      "\u001b[0;31m---------------------------------------------------------------------------\u001b[0m",
      "\u001b[0;31mModuleNotFoundError\u001b[0m                       Traceback (most recent call last)",
      "\u001b[0;32m<ipython-input-1-6cdb52f3dab3>\u001b[0m in \u001b[0;36m<module>\u001b[0;34m\u001b[0m\n\u001b[1;32m      1\u001b[0m \u001b[0;32mimport\u001b[0m \u001b[0mredis\u001b[0m\u001b[0;34m\u001b[0m\u001b[0;34m\u001b[0m\u001b[0m\n\u001b[0;32m----> 2\u001b[0;31m \u001b[0;32mimport\u001b[0m \u001b[0mrediscluster\u001b[0m\u001b[0;34m\u001b[0m\u001b[0;34m\u001b[0m\u001b[0m\n\u001b[0m\u001b[1;32m      3\u001b[0m \u001b[0;32mimport\u001b[0m \u001b[0muuid\u001b[0m\u001b[0;34m\u001b[0m\u001b[0;34m\u001b[0m\u001b[0m\n\u001b[1;32m      4\u001b[0m \u001b[0;34m\u001b[0m\u001b[0m\n\u001b[1;32m      5\u001b[0m \u001b[0mrediscon\u001b[0m \u001b[0;34m=\u001b[0m \u001b[0mrediscluster\u001b[0m\u001b[0;34m.\u001b[0m\u001b[0mRedisCluster\u001b[0m\u001b[0;34m(\u001b[0m\u001b[0mhost\u001b[0m \u001b[0;34m=\u001b[0m \u001b[0;34m'localhost'\u001b[0m\u001b[0;34m,\u001b[0m \u001b[0mport\u001b[0m \u001b[0;34m=\u001b[0m \u001b[0;36m7001\u001b[0m\u001b[0;34m)\u001b[0m\u001b[0;34m\u001b[0m\u001b[0;34m\u001b[0m\u001b[0m\n",
      "\u001b[0;31mModuleNotFoundError\u001b[0m: No module named 'rediscluster'"
     ]
    }
   ],
   "source": [
    "import redis\n",
    "import rediscluster\n",
    "import uuid\n",
    "\n",
    "rediscon = rediscluster.RedisCluster(host = 'localhost', port = 7001)\n",
    "rediscon.flushdb()\n",
    "print(rediscon)"
   ]
  },
  {
   "cell_type": "code",
   "execution_count": 2,
   "id": "7973ad34-a3a6-4d25-960a-cc557f0f67f1",
   "metadata": {},
   "outputs": [
    {
     "ename": "NameError",
     "evalue": "name 'cursor' is not defined",
     "output_type": "error",
     "traceback": [
      "\u001b[0;31m---------------------------------------------------------------------------\u001b[0m",
      "\u001b[0;31mNameError\u001b[0m                                 Traceback (most recent call last)",
      "\u001b[0;32m<ipython-input-2-d5e3f5c59e45>\u001b[0m in \u001b[0;36m<module>\u001b[0;34m\u001b[0m\n\u001b[0;32m----> 1\u001b[0;31m \u001b[0mcursor\u001b[0m\u001b[0;34m.\u001b[0m\u001b[0mexecute\u001b[0m\u001b[0;34m(\u001b[0m\u001b[0;34m\"SELECT * FROM `one`;\"\u001b[0m\u001b[0;34m)\u001b[0m\u001b[0;34m\u001b[0m\u001b[0;34m\u001b[0m\u001b[0m\n\u001b[0m\u001b[1;32m      2\u001b[0m \u001b[0mcurs\u001b[0m \u001b[0;34m=\u001b[0m \u001b[0mcursor\u001b[0m\u001b[0;34m.\u001b[0m\u001b[0mfetchall\u001b[0m\u001b[0;34m(\u001b[0m\u001b[0;34m)\u001b[0m\u001b[0;34m\u001b[0m\u001b[0;34m\u001b[0m\u001b[0m\n",
      "\u001b[0;31mNameError\u001b[0m: name 'cursor' is not defined"
     ]
    }
   ],
   "source": [
    "cursor.execute(\"SELECT * FROM `one`;\")\n",
    "curs = cursor.fetchall()"
   ]
  },
  {
   "cell_type": "code",
   "execution_count": 3,
   "id": "832bf477-5628-4f91-ba20-85f414e0922d",
   "metadata": {},
   "outputs": [
    {
     "ename": "NameError",
     "evalue": "name 'curs' is not defined",
     "output_type": "error",
     "traceback": [
      "\u001b[0;31m---------------------------------------------------------------------------\u001b[0m",
      "\u001b[0;31mNameError\u001b[0m                                 Traceback (most recent call last)",
      "\u001b[0;32m<ipython-input-3-5dd28118f2ad>\u001b[0m in \u001b[0;36m<module>\u001b[0;34m\u001b[0m\n\u001b[0;32m----> 1\u001b[0;31m \u001b[0;32mfor\u001b[0m \u001b[0mwords\u001b[0m \u001b[0;32min\u001b[0m \u001b[0mcurs\u001b[0m\u001b[0;34m[\u001b[0m\u001b[0;36m0\u001b[0m\u001b[0;34m:\u001b[0m\u001b[0;34m]\u001b[0m\u001b[0;34m:\u001b[0m\u001b[0;34m\u001b[0m\u001b[0;34m\u001b[0m\u001b[0m\n\u001b[0m\u001b[1;32m      2\u001b[0m     \u001b[0maruuid\u001b[0m \u001b[0;34m=\u001b[0m \u001b[0muuid\u001b[0m\u001b[0;34m.\u001b[0m\u001b[0muuid4\u001b[0m\u001b[0;34m(\u001b[0m\u001b[0;34m)\u001b[0m\u001b[0;34m.\u001b[0m\u001b[0mhex\u001b[0m\u001b[0;34m\u001b[0m\u001b[0;34m\u001b[0m\u001b[0m\n\u001b[1;32m      3\u001b[0m     \u001b[0mnnull\u001b[0m \u001b[0;34m=\u001b[0m \u001b[0;34m[\u001b[0m\u001b[0mi\u001b[0m \u001b[0;32mfor\u001b[0m \u001b[0mi\u001b[0m \u001b[0;32min\u001b[0m \u001b[0mwords\u001b[0m \u001b[0;32mif\u001b[0m \u001b[0mi\u001b[0m \u001b[0;32mis\u001b[0m \u001b[0;32mnot\u001b[0m \u001b[0;32mNone\u001b[0m\u001b[0;34m]\u001b[0m\u001b[0;34m\u001b[0m\u001b[0;34m\u001b[0m\u001b[0m\n\u001b[1;32m      4\u001b[0m     \u001b[0;32mfor\u001b[0m \u001b[0mj\u001b[0m \u001b[0;32min\u001b[0m \u001b[0mnnull\u001b[0m\u001b[0;34m:\u001b[0m\u001b[0;34m\u001b[0m\u001b[0;34m\u001b[0m\u001b[0m\n\u001b[1;32m      5\u001b[0m         \u001b[0mrediscon\u001b[0m\u001b[0;34m.\u001b[0m\u001b[0mrpush\u001b[0m\u001b[0;34m(\u001b[0m\u001b[0maruuid\u001b[0m\u001b[0;34m,\u001b[0m \u001b[0mj\u001b[0m\u001b[0;34m)\u001b[0m\u001b[0;34m\u001b[0m\u001b[0;34m\u001b[0m\u001b[0m\n",
      "\u001b[0;31mNameError\u001b[0m: name 'curs' is not defined"
     ]
    }
   ],
   "source": [
    "for words in curs[0:]:\n",
    "    aruuid = uuid.uuid4().hex\n",
    "    nnull = [i for i in words if i is not None]\n",
    "    for j in nnull:\n",
    "        rediscon.rpush(aruuid, j)"
   ]
  },
  {
   "cell_type": "code",
   "execution_count": null,
   "id": "60be4609-aa98-4a37-b0be-9858990a65cd",
   "metadata": {},
   "outputs": [],
   "source": [
    "print(rediscon.keys()[0: 10])"
   ]
  },
  {
   "cell_type": "code",
   "execution_count": null,
   "id": "f4dde444-e1b0-42e4-b274-ab9b515f6481",
   "metadata": {},
   "outputs": [],
   "source": [
    "rediscon.lrange('57f147b83c48448ca553b9ab3999244c', 0, -1)"
   ]
  },
  {
   "cell_type": "markdown",
   "id": "c4be1826-beee-4f97-92d4-38bc289312b6",
   "metadata": {},
   "source": [
    "Задание 6"
   ]
  },
  {
   "cell_type": "code",
   "execution_count": null,
   "id": "fa1625e2-e9ec-4139-abf6-70fb80227591",
   "metadata": {},
   "outputs": [],
   "source": [
    "data={}\n",
    "keys = rediscon.keys()\n",
    "for k in keys:\n",
    "    l=rediscon.lrange(k,0,-1)\n",
    "    data[l[0].decode(\"utf-8\")]=len(l[1:])\n",
    "    \n",
    "strct = \"RW\"\n",
    "for k,v in zip(data.keys(),data.values()):\n",
    "    rediscon.hset(strct,mapping={k:v})\n",
    "\n",
    "Kk = rediscon.hkeys(strct)\n",
    "print(f\"first 5 key of hash-table 'RW':{Kk[0:5]}\")\n",
    "print(Kk[0],' : ',redcon.hget(strct,Kk[0]))\n"
   ]
  },
  {
   "cell_type": "markdown",
   "id": "f212095c-6511-4e21-967b-5210e887f16a",
   "metadata": {},
   "source": [
    "Задание 7"
   ]
  },
  {
   "cell_type": "code",
   "execution_count": null,
   "id": "67fbf215-2d29-409d-91f4-2a0926fbf5f5",
   "metadata": {},
   "outputs": [],
   "source": [
    "import random\n",
    "\n",
    "def randf(arrKeyRn): \n",
    "    arrKeys = rediscon.keys()\n",
    "    randKeys = random.choices(arrKeys, k = arrKeyRn)\n",
    "    # Отбор ключей, которых нет в hash-таблице.\n",
    "    while hashTName in [key.decode(\"UTF-8\") for key in randKeys]:\n",
    "        randKeys = random.choices(arrKeys, k = arrKeyRn)\n",
    "    zn = [random.choice(rediscon.lrange(j, 1, -1)).decode(\"UTF-8\") for j in randKeys]\n",
    "    # Конкатенация получившихся слов через символ пробела.\n",
    "    return ' '.join(zn)\n",
    "\n",
    "for i in range(10):\n",
    "    print(\"Key \", i, \" ... \", \"[\", randf(random.randint(1, 40)), \"]\")"
   ]
  }
 ],
 "metadata": {
  "kernelspec": {
   "display_name": "Python 3",
   "language": "python",
   "name": "python3"
  },
  "language_info": {
   "codemirror_mode": {
    "name": "ipython",
    "version": 3
   },
   "file_extension": ".py",
   "mimetype": "text/x-python",
   "name": "python",
   "nbconvert_exporter": "python",
   "pygments_lexer": "ipython3",
   "version": "3.10.4"
  }
 },
 "nbformat": 4,
 "nbformat_minor": 5
}
